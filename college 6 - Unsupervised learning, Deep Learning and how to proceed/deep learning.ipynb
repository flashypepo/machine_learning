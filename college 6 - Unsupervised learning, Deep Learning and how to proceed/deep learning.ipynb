{
 "cells": [
  {
   "cell_type": "markdown",
   "metadata": {},
   "source": [
    "<h1>Titanic - Deep learning</h1>"
   ]
  },
  {
   "cell_type": "code",
   "execution_count": 1,
   "metadata": {},
   "outputs": [],
   "source": [
    "# I case you are using a older version of Sklearn warnings will be generated\n",
    "# Let's turn this off to keep the code clean\n",
    "import warnings\n",
    "warnings.filterwarnings(\"ignore\")"
   ]
  },
  {
   "cell_type": "code",
   "execution_count": 2,
   "metadata": {},
   "outputs": [],
   "source": [
    "import pandas as pd\n",
    "\n",
    "train_df = pd.read_csv('./data/train.csv')"
   ]
  },
  {
   "cell_type": "code",
   "execution_count": 3,
   "metadata": {},
   "outputs": [],
   "source": [
    "# X has every column except Survived\n",
    "X = train_df[[column for column in train_df.columns if not column == 'Survived']]\n",
    "y = train_df['Survived']"
   ]
  },
  {
   "cell_type": "code",
   "execution_count": 4,
   "metadata": {},
   "outputs": [],
   "source": [
    "# Let's clean up X\n",
    "del X['PassengerId']\n",
    "del X['Name']\n",
    "del X['Ticket']"
   ]
  },
  {
   "cell_type": "code",
   "execution_count": 5,
   "metadata": {},
   "outputs": [],
   "source": [
    "# Remove empty values\n",
    "# The sklearn imputer replaces empty values with whatever we set it to be\n",
    "# We import numpy because empty values get represnted as a numpy.nan object by default\n",
    "import numpy as np\n",
    "from sklearn.impute import SimpleImputer\n",
    "\n",
    "# We replace all empty values (numpy.nan objects) inside the age column with the median\n",
    "age_imputer = SimpleImputer(missing_values=np.nan, strategy='median')\n",
    "X['Age'] = age_imputer.fit_transform(X[['Age']])\n",
    "\n",
    "\n",
    "# We replace all empty values (numpy.nan objects) inside the cabin column with the Unknown\n",
    "cabin_imputer = SimpleImputer(missing_values=np.nan, fill_value='Unknown', strategy='constant')\n",
    "X['Cabin'] = cabin_imputer.fit_transform(X[['Cabin']])\n",
    "\n",
    "# We replace all empty values (numpy.nan objects) inside the embarked column with the most frequent value\n",
    "embarked_imputer = SimpleImputer(missing_values=np.nan, strategy='most_frequent')\n",
    "X['Embarked'] = cabin_imputer.fit_transform(X[['Embarked']])"
   ]
  },
  {
   "cell_type": "code",
   "execution_count": 6,
   "metadata": {},
   "outputs": [],
   "source": [
    "# Let's encode all the catigorical values. So that the machine learning model understands the categorical values\n",
    "# We will use onehot encoding:\n",
    "# https://hackernoon.com/what-is-one-hot-encoding-why-and-when-do-you-have-to-use-it-e3c6186d008f\n",
    "\n",
    "\n",
    "# I wrote a function that will make our live easier. You can forget the syntax\n",
    "from sklearn.preprocessing import OneHotEncoder\n",
    "\n",
    "def encode(dataframe, column):\n",
    "    encoder = OneHotEncoder()\n",
    "    encoded_array = encoder.fit_transform(dataframe[[column]]).toarray()\n",
    "    \n",
    "    for index in range(encoded_array.shape[1]):\n",
    "        dataframe[column + str(index)] = encoded_array[:, index]\n",
    "    \n",
    "    del dataframe[column]    \n",
    "    return dataframe\n",
    "\n",
    "X = encode(X, 'Cabin')\n",
    "X = encode(X, 'Sex')\n",
    "X = encode(X, 'Embarked')"
   ]
  },
  {
   "cell_type": "code",
   "execution_count": 7,
   "metadata": {},
   "outputs": [],
   "source": [
    "# Create train and test \n",
    "from sklearn.model_selection import train_test_split\n",
    "\n",
    "X_train, X_test, y_train, y_test = train_test_split(X, y, test_size=0.2)\n"
   ]
  },
  {
   "cell_type": "code",
   "execution_count": 8,
   "metadata": {},
   "outputs": [
    {
     "name": "stderr",
     "output_type": "stream",
     "text": [
      "Using TensorFlow backend.\n"
     ]
    }
   ],
   "source": [
    "# Deeeeeep learning time\n",
    "# Install: conda install keras\n",
    "from keras.models import Sequential\n",
    "from keras.layers import Dense\n",
    "\n",
    "# Define the layers\n",
    "\n",
    "# Start a model\n",
    "model = Sequential()\n",
    "\n",
    "# Argument 1 is the amount if neurons.\n",
    "# Activation: is the formula that gets applied at the end of a neuron\n",
    "# Input_dim: amount of features. I this case the amount of columns\n",
    "model.add(Dense(32, activation='relu', input_dim=len(X.columns))) # Input layer\n",
    "\n",
    "model.add(Dense(30, activation='relu')) # Hidden layer\n",
    "model.add(Dense(30, activation='relu')) # Hidden layer\n",
    "\n",
    "model.add(Dense(1, activation='sigmoid')) # Output layer\n",
    "\n",
    "\n",
    "# Compile the layers\n",
    "model.compile(\n",
    "              optimizer='adam', # The optimize algorithm\n",
    "              loss='binary_crossentropy', # Because of our predict a binary (1=survived, 0=died)\n",
    "              metrics=['accuracy'] # Aiming for the best accuracy\n",
    "        )"
   ]
  },
  {
   "cell_type": "code",
   "execution_count": 9,
   "metadata": {},
   "outputs": [
    {
     "name": "stdout",
     "output_type": "stream",
     "text": [
      "Epoch 1/25\n",
      "712/712 [==============================] - 1s 1ms/step - loss: 0.6910 - acc: 0.5885\n",
      "Epoch 2/25\n",
      "712/712 [==============================] - 0s 74us/step - loss: 0.6104 - acc: 0.6798\n",
      "Epoch 3/25\n",
      "712/712 [==============================] - 0s 70us/step - loss: 0.6078 - acc: 0.6924\n",
      "Epoch 4/25\n",
      "712/712 [==============================] - 0s 71us/step - loss: 0.6008 - acc: 0.7022\n",
      "Epoch 5/25\n",
      "712/712 [==============================] - 0s 71us/step - loss: 0.5867 - acc: 0.7135\n",
      "Epoch 6/25\n",
      "712/712 [==============================] - 0s 72us/step - loss: 0.5865 - acc: 0.6980\n",
      "Epoch 7/25\n",
      "712/712 [==============================] - 0s 72us/step - loss: 0.5712 - acc: 0.7233\n",
      "Epoch 8/25\n",
      "712/712 [==============================] - 0s 71us/step - loss: 0.5508 - acc: 0.7275\n",
      "Epoch 9/25\n",
      "712/712 [==============================] - 0s 73us/step - loss: 0.5475 - acc: 0.7275\n",
      "Epoch 10/25\n",
      "712/712 [==============================] - 0s 73us/step - loss: 0.5260 - acc: 0.7331\n",
      "Epoch 11/25\n",
      "712/712 [==============================] - 0s 74us/step - loss: 0.5140 - acc: 0.7416\n",
      "Epoch 12/25\n",
      "712/712 [==============================] - 0s 76us/step - loss: 0.4872 - acc: 0.7697\n",
      "Epoch 13/25\n",
      "712/712 [==============================] - 0s 72us/step - loss: 0.4735 - acc: 0.7935\n",
      "Epoch 14/25\n",
      "712/712 [==============================] - 0s 73us/step - loss: 0.4590 - acc: 0.8006\n",
      "Epoch 15/25\n",
      "712/712 [==============================] - 0s 72us/step - loss: 0.4587 - acc: 0.8020\n",
      "Epoch 16/25\n",
      "712/712 [==============================] - 0s 74us/step - loss: 0.4657 - acc: 0.8048\n",
      "Epoch 17/25\n",
      "712/712 [==============================] - 0s 81us/step - loss: 0.4541 - acc: 0.8132\n",
      "Epoch 18/25\n",
      "712/712 [==============================] - 0s 76us/step - loss: 0.4469 - acc: 0.8090\n",
      "Epoch 19/25\n",
      "712/712 [==============================] - 0s 73us/step - loss: 0.4443 - acc: 0.8090\n",
      "Epoch 20/25\n",
      "712/712 [==============================] - 0s 72us/step - loss: 0.4259 - acc: 0.8202\n",
      "Epoch 21/25\n",
      "712/712 [==============================] - 0s 72us/step - loss: 0.4220 - acc: 0.8146\n",
      "Epoch 22/25\n",
      "712/712 [==============================] - 0s 75us/step - loss: 0.4072 - acc: 0.8244\n",
      "Epoch 23/25\n",
      "712/712 [==============================] - 0s 74us/step - loss: 0.4279 - acc: 0.8244\n",
      "Epoch 24/25\n",
      "712/712 [==============================] - 0s 74us/step - loss: 0.4069 - acc: 0.8244\n",
      "Epoch 25/25\n",
      "712/712 [==============================] - 0s 71us/step - loss: 0.4222 - acc: 0.8287\n"
     ]
    },
    {
     "data": {
      "text/plain": [
       "<keras.callbacks.History at 0x1a3ce900d0>"
      ]
     },
     "execution_count": 9,
     "metadata": {},
     "output_type": "execute_result"
    }
   ],
   "source": [
    "# Train the model\n",
    "model.fit(X_train, y_train, epochs=25) # Epochs is the amount of time the algorithm is going to retrain"
   ]
  },
  {
   "cell_type": "code",
   "execution_count": 10,
   "metadata": {},
   "outputs": [
    {
     "data": {
      "text/plain": [
       "0.7877094972067039"
      ]
     },
     "execution_count": 10,
     "metadata": {},
     "output_type": "execute_result"
    }
   ],
   "source": [
    "# Predicting\n",
    "from sklearn.metrics import accuracy_score\n",
    "\n",
    "y_pred = model.predict(X_test)\n",
    "accuracy_score(y_test, y_pred.round())"
   ]
  }
 ],
 "metadata": {
  "kernelspec": {
   "display_name": "Python 2",
   "language": "python",
   "name": "python2"
  },
  "language_info": {
   "codemirror_mode": {
    "name": "ipython",
    "version": 2
   },
   "file_extension": ".py",
   "mimetype": "text/x-python",
   "name": "python",
   "nbconvert_exporter": "python",
   "pygments_lexer": "ipython2",
   "version": "2.7.15"
  }
 },
 "nbformat": 4,
 "nbformat_minor": 2
}
